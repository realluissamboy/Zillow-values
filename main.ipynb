{
 "cells": [
  {
   "cell_type": "code",
   "execution_count": 5,
   "id": "f560b797-0fa7-47a1-a7af-38ade4c29d16",
   "metadata": {},
   "outputs": [],
   "source": [
    "import pandas as pd\n",
    "import re\n",
    "from datetime import datetime, timedelta"
   ]
  },
  {
   "cell_type": "code",
   "execution_count": 7,
   "id": "cb6a543a-5f4f-4e4d-b21c-7cd37d446457",
   "metadata": {},
   "outputs": [
    {
     "name": "stdout",
     "output_type": "stream",
     "text": [
      "      RegionName       Date   Median_Price\n",
      "0  San Diego, CA 1996-02-29  164305.410149\n",
      "1  San Diego, CA 1996-03-31  164471.092329\n",
      "2  San Diego, CA 1996-04-30  164045.419441\n",
      "3  San Diego, CA 1996-05-31  164304.455765\n",
      "4  San Diego, CA 1996-06-30  164492.047180\n"
     ]
    }
   ],
   "source": [
    "# Your data cleaning script here (as updated for MM/DD/YY dates)\n",
    "df = pd.read_csv('san_diego_zhvi.csv')\n",
    "san_diego_df = df[df['RegionName'] == 'San Diego, CA'].copy()\n",
    "date_cols = [col for col in san_diego_df.columns if re.match(r'\\d{1,2}/\\d{1,2}/\\d{2}', col)]\n",
    "melted_df = san_diego_df.melt(\n",
    "    id_vars=['RegionName'],\n",
    "    value_vars=date_cols,\n",
    "    var_name='Date',\n",
    "    value_name='Median_Price'\n",
    ")\n",
    "melted_df['Date'] = pd.to_datetime(melted_df['Date'], format='%m/%d/%y')\n",
    "melted_df = melted_df.sort_values('Date')\n",
    "melted_df.to_csv('san_diego_cleaned.csv', index=False)\n",
    "print(melted_df.head())"
   ]
  },
  {
   "cell_type": "code",
   "execution_count": 9,
   "id": "41a95501-fdf4-49fd-9c36-5e6d05af1922",
   "metadata": {},
   "outputs": [
    {
     "name": "stdout",
     "output_type": "stream",
     "text": [
      "12 Months:\n",
      "         RegionName       Date   Median_Price\n",
      "336  San Diego, CA 2024-02-29  914556.246095\n",
      "337  San Diego, CA 2024-03-31  933707.208252\n",
      "338  San Diego, CA 2024-04-30  949810.538332\n",
      "339  San Diego, CA 2024-05-31  958385.962521\n",
      "340  San Diego, CA 2024-06-30  960174.025439\n",
      "1 Year:\n",
      "         RegionName       Date   Median_Price\n",
      "336  San Diego, CA 2024-02-29  914556.246095\n",
      "337  San Diego, CA 2024-03-31  933707.208252\n",
      "338  San Diego, CA 2024-04-30  949810.538332\n",
      "339  San Diego, CA 2024-05-31  958385.962521\n",
      "340  San Diego, CA 2024-06-30  960174.025439\n",
      "5 Years:\n",
      "         RegionName       Date   Median_Price\n",
      "288  San Diego, CA 2020-02-29  611295.962942\n",
      "289  San Diego, CA 2020-03-31  617964.892537\n",
      "290  San Diego, CA 2020-04-30  624697.832652\n",
      "291  San Diego, CA 2020-05-31  625405.070754\n",
      "292  San Diego, CA 2020-06-30  626325.151268\n",
      "10 Years:\n",
      "         RegionName       Date   Median_Price\n",
      "229  San Diego, CA 2015-03-31  466662.257688\n",
      "230  San Diego, CA 2015-04-30  470783.669115\n",
      "231  San Diego, CA 2015-05-31  476598.642308\n",
      "232  San Diego, CA 2015-06-30  481118.525388\n",
      "233  San Diego, CA 2015-07-31  484802.686100\n",
      "Charts generated successfully!\n"
     ]
    }
   ],
   "source": [
    "# Step 1: Load the cleaned data and convert Date to datetime\n",
    "df = pd.read_csv('san_diego_cleaned.csv')\n",
    "df['Date'] = pd.to_datetime(df['Date'])  # Ensure Date is in datetime format\n",
    "\n",
    "# Step 2: Set today's date (Feb 27, 2025, as per your project context)\n",
    "today = datetime(2025, 2, 27)\n",
    "\n",
    "# Step 3: Filter for different timeframes\n",
    "df_12months = df[df['Date'] >= today - timedelta(days=365)]  # Last 12 months\n",
    "df_1year = df[df['Date'] >= today - timedelta(days=365)]     # 1 year\n",
    "df_5year = df[df['Date'] >= today - timedelta(days=5*365)]   # 5 years\n",
    "df_10year = df[df['Date'] >= today - timedelta(days=10*365)] # 10 years\n",
    "\n",
    "# Verify the filtered data\n",
    "print(\"12 Months:\\n\", df_12months.head())\n",
    "print(\"1 Year:\\n\", df_1year.head())\n",
    "print(\"5 Years:\\n\", df_5year.head())\n",
    "print(\"10 Years:\\n\", df_10year.head())\n",
    "\n",
    "# Step 4: Import Plotly for charts (if not already imported)\n",
    "import plotly.express as px\n",
    "\n",
    "# Step 5: Function to create and save charts\n",
    "def create_chart(data, title, filename):\n",
    "    fig = px.line(data, x='Date', y='Median_Price', title=title,\n",
    "                  labels={'Median_Price': 'Median Home Price ($)', 'Date': 'Time'})\n",
    "    fig.update_layout(\n",
    "        template='plotly_dark',  # Sleek dark theme for your portfolio\n",
    "        title_x=0.5  # Center the title\n",
    "    )\n",
    "    fig.write_html(f\"{filename}.html\")  # Save as standalone HTML file\n",
    "\n",
    "# Step 6: Create charts for each timeframe\n",
    "create_chart(df_12months, 'San Diego Real Estate Growth (Last 12 Months)', 'months_chart')\n",
    "create_chart(df_1year, 'San Diego Real Estate Growth (1 Year)', '1year_chart')\n",
    "create_chart(df_5year, 'San Diego Real Estate Growth (5 Years)', '5year_chart')\n",
    "create_chart(df_10year, 'San Diego Real Estate Growth (10 Years)', '10year_chart')\n",
    "\n",
    "print(\"Charts generated successfully!\")"
   ]
  },
  {
   "cell_type": "code",
   "execution_count": null,
   "id": "68cbe498-f91a-4078-b9c7-dcb7ae43b260",
   "metadata": {},
   "outputs": [],
   "source": []
  }
 ],
 "metadata": {
  "kernelspec": {
   "display_name": "Python [conda env:base] *",
   "language": "python",
   "name": "conda-base-py"
  },
  "language_info": {
   "codemirror_mode": {
    "name": "ipython",
    "version": 3
   },
   "file_extension": ".py",
   "mimetype": "text/x-python",
   "name": "python",
   "nbconvert_exporter": "python",
   "pygments_lexer": "ipython3",
   "version": "3.12.4"
  }
 },
 "nbformat": 4,
 "nbformat_minor": 5
}
